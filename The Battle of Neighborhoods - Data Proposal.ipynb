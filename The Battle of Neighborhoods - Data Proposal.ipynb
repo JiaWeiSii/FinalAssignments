{
    "cells": [
        {
            "cell_type": "markdown",
            "metadata": {
                "collapsed": true
            },
            "source": "<h1>Data Proposal</h1>"
        },
        {
            "cell_type": "code",
            "execution_count": null,
            "metadata": {},
            "outputs": [],
            "source": "<h2>Data needed to be collected:</h2>\n\n    1. All the groceries in the area including their name, id, location (address, latitude, longitude)\n    2. Population (to see the \"hot\" neighbor where is more suitable to place the grocery shop)\n    3. Socioeconomic status of the residents (household income) to see how much they can afford\n    4. Demographics (gender, age)\n    \n\nWe will use Foursquare. "
        }
    ],
    "metadata": {
        "kernelspec": {
            "display_name": "Python 3.6",
            "language": "python",
            "name": "python3"
        },
        "language_info": {
            "codemirror_mode": {
                "name": "ipython",
                "version": 3
            },
            "file_extension": ".py",
            "mimetype": "text/x-python",
            "name": "python",
            "nbconvert_exporter": "python",
            "pygments_lexer": "ipython3",
            "version": "3.6.9"
        }
    },
    "nbformat": 4,
    "nbformat_minor": 1
}