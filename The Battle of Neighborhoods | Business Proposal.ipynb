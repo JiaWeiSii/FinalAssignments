{
    "cells": [
        {
            "cell_type": "markdown",
            "metadata": {
                "collapsed": true
            },
            "source": "<h1>Introduction/ Business Problem</h1>"
        },
        {
            "cell_type": "markdown",
            "metadata": {},
            "source": "This study is to help a startup company who is planning to open their groceries shop/supermarket in Toronto. Knowing that Toronto is the most populaed city in Canada and it is ranked as an important global city based on high quality of living, it is important to know what kind of groceries shop should be invested in the neighborhood (High class, middle class or low class and affordable). However, with limited knowledge of the Toronto market, it is hard for us to do the right decision with a certain amount of budget. "
        },
        {
            "cell_type": "markdown",
            "metadata": {},
            "source": "<h2>Problem which is tried to solve/ Things we are trying to find out</h2>"
        },
        {
            "cell_type": "markdown",
            "metadata": {},
            "source": "1. Know if it is suitable to open a new groceries shop now\n2. Where should we open the shop?/ Market Places\n3. Which kind of shop should we invest?\n4. Population \n5. Demographics\n6. Competitors\n"
        },
        {
            "cell_type": "markdown",
            "metadata": {},
            "source": "Our solution needs to be data driven to avoid high risk criteria and increase success rate. Thus, we are going to apply our data science knowledge in the project"
        },
        {
            "cell_type": "code",
            "execution_count": null,
            "metadata": {},
            "outputs": [],
            "source": ""
        }
    ],
    "metadata": {
        "kernelspec": {
            "display_name": "Python 3.6",
            "language": "python",
            "name": "python3"
        },
        "language_info": {
            "codemirror_mode": {
                "name": "ipython",
                "version": 3
            },
            "file_extension": ".py",
            "mimetype": "text/x-python",
            "name": "python",
            "nbconvert_exporter": "python",
            "pygments_lexer": "ipython3",
            "version": "3.6.9"
        }
    },
    "nbformat": 4,
    "nbformat_minor": 1
}